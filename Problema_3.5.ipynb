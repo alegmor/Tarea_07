{
 "cells": [
  {
   "cell_type": "markdown",
   "id": "d9911aac",
   "metadata": {
    "deletable": false,
    "editable": false,
    "nbgrader": {
     "cell_type": "markdown",
     "checksum": "2a5da6ea83846fd4cfa8191bf5c660f8",
     "grade": false,
     "grade_id": "cell-5b992b37f3be6754",
     "locked": true,
     "schema_version": 3,
     "solution": false,
     "task": false
    }
   },
   "source": [
    "<div>\n",
    "<img align=\"center\"\n",
    "src=\"Images/HT-banner-CAP3.png\"  width=\"950\" height=\"9500\"/>\n",
    "</div>\n",
    "\n",
    "<font color='#09427D'><center>**SISTEMAS RADIALES**</font>\n",
    "    \n",
    "<font color='#09427D'><center>**EJEMPLO 3.5**</font>"
   ]
  },
  {
   "cell_type": "markdown",
   "id": "63786809",
   "metadata": {
    "deletable": false,
    "editable": false,
    "nbgrader": {
     "cell_type": "markdown",
     "checksum": "2587d027e9682bc3ee249433cdcbc751",
     "grade": false,
     "grade_id": "cell-d2245e092d09b7f5",
     "locked": true,
     "schema_version": 3,
     "solution": false,
     "task": false
    }
   },
   "source": [
    "La posible existecia de un espesor de aislamiento óptimo para sistemas radiales lo sugiere la presencia de efectos que compiten asociados con un aumento en este espesor. En particular, aunque la resistencia de conducción aumenta al agregar un aislante, la resistencia de convección disminuye debido al aumento del área de la superficie exterior. Por ello puede existir un espesor de aislamiento que minimice la pérdida de calor al maximizar la resistencia total a la transferencia de calor. Resuelva este problema considerando el siguiente sistema.\n",
    "<div>\n",
    "<img align=\"center\"\n",
    "src=\"Images/p235.jpg\"  width=\"300\" height=\"300\"/>\n",
    "</div>\n",
    "\n",
    "1.  Un tubo de cobre con pared delgada de radio $r_i$ se usa para transportar un fluido refrigerante de baja temperatura y está a una temperatura $T_i$ que es menor que la del aire del medio a $T_\\infty$.\n",
    "¿Hay un espesor óptimo asociado con la aplicación de aislante al tubo?\n",
    "\n",
    "### Solución:"
   ]
  },
  {
   "cell_type": "markdown",
   "id": "25cb2b93",
   "metadata": {
    "deletable": false,
    "editable": false,
    "nbgrader": {
     "cell_type": "markdown",
     "checksum": "1ab4b22ec31bd048b468fbc07f1a8cff",
     "grade": false,
     "grade_id": "cell-0a097cd21d45db16",
     "locked": true,
     "schema_version": 3,
     "solution": false,
     "task": false
    }
   },
   "source": [
    "El circuito térmico es\n",
    "<div>\n",
    "<img align=\"center\"\n",
    "src=\"Images/circuito.jpg\"  width=\"300\" height=\"300\"/>\n",
    "</div>\n"
   ]
  },
  {
   "cell_type": "code",
   "execution_count": null,
   "id": "fe884078",
   "metadata": {
    "deletable": false,
    "editable": false,
    "nbgrader": {
     "cell_type": "code",
     "checksum": "48becee99293057a1146c50a6411b0b5",
     "grade": false,
     "grade_id": "cell-1ff9c4ba53dca294",
     "locked": true,
     "schema_version": 3,
     "solution": false,
     "task": false
    }
   },
   "outputs": [],
   "source": [
    "import numpy as np\n",
    "import matplotlib.pyplot as plt\n",
    "import sympy \n",
    "from sympy import *\n",
    "\n",
    "r  = np.arange(0.005,0.06,0.001)\n",
    "ri = 0.005\n",
    "k  = 0.055\n",
    "h  = 5"
   ]
  },
  {
   "cell_type": "code",
   "execution_count": null,
   "id": "a3b3c874",
   "metadata": {},
   "outputs": [],
   "source": []
  },
  {
   "cell_type": "code",
   "execution_count": null,
   "id": "50499e28",
   "metadata": {
    "deletable": false,
    "nbgrader": {
     "cell_type": "code",
     "checksum": "b34ee9218dab6379a13f2dd9c7ce472a",
     "grade": true,
     "grade_id": "cell-ae2cc79dff1fb7ae",
     "locked": false,
     "points": 0,
     "schema_version": 3,
     "solution": true,
     "task": false
    }
   },
   "outputs": [],
   "source": [
    "def Rtot(r,ri,k,h):\n",
    "    # YOUR CODE HERE\n",
    "    raise NotImplementedError()\n",
    "    return RT"
   ]
  },
  {
   "cell_type": "code",
   "execution_count": null,
   "id": "37605b2b",
   "metadata": {},
   "outputs": [],
   "source": []
  },
  {
   "cell_type": "code",
   "execution_count": null,
   "id": "c4dac76c",
   "metadata": {
    "deletable": false,
    "nbgrader": {
     "cell_type": "code",
     "checksum": "e64279d1d06d54743635c10546c26aaa",
     "grade": false,
     "grade_id": "cell-21c9068cb4bfecd4",
     "locked": false,
     "schema_version": 3,
     "solution": true,
     "task": false
    }
   },
   "outputs": [],
   "source": [
    "def rcr(k,h):\n",
    "    # YOUR CODE HERE\n",
    "    raise NotImplementedError()\n",
    "    return rcr"
   ]
  },
  {
   "cell_type": "markdown",
   "id": "f4481400",
   "metadata": {
    "deletable": false,
    "editable": false,
    "nbgrader": {
     "cell_type": "markdown",
     "checksum": "5f6202d2896d235148b3d712ba645c58",
     "grade": false,
     "grade_id": "cell-3d9ec9c788d4048d",
     "locked": true,
     "schema_version": 3,
     "solution": false,
     "task": false
    }
   },
   "source": [
    "1. 1¿Por qué se define un radio crítico $r_{cr}$ y cúal es su valor en este caso? "
   ]
  },
  {
   "cell_type": "markdown",
   "id": "dcd39769",
   "metadata": {},
   "source": [
    "      Explique su respuesta"
   ]
  },
  {
   "cell_type": "markdown",
   "id": "ea5c1ffe",
   "metadata": {
    "deletable": false,
    "editable": false,
    "nbgrader": {
     "cell_type": "markdown",
     "checksum": "8271db051bc399e3846dc9ac89767d85",
     "grade": false,
     "grade_id": "cell-2997612035a79be2",
     "locked": true,
     "schema_version": 3,
     "solution": false,
     "task": false
    }
   },
   "source": [
    "1. 2 ¿Qué pasa con el flujo de calor $q^{'}$ cuando $r<r_{cr}$ y $r>r_{cr}$?"
   ]
  },
  {
   "cell_type": "code",
   "execution_count": null,
   "id": "fe026817",
   "metadata": {
    "deletable": false,
    "nbgrader": {
     "cell_type": "code",
     "checksum": "0a05091333950a897093b46ed8b3771d",
     "grade": false,
     "grade_id": "cell-c835d8e20f18ea82",
     "locked": false,
     "schema_version": 3,
     "solution": true,
     "task": false
    }
   },
   "outputs": [],
   "source": [
    "def q(Ti,Tinf,Rtot):\n",
    "    # YOUR CODE HERE\n",
    "    raise NotImplementedError()\n",
    "    return q0\n"
   ]
  },
  {
   "cell_type": "markdown",
   "id": "912703f8",
   "metadata": {},
   "source": [
    "      Explique su respuesta"
   ]
  },
  {
   "cell_type": "markdown",
   "id": "ed16d8e2",
   "metadata": {
    "deletable": false,
    "editable": false,
    "nbgrader": {
     "cell_type": "markdown",
     "checksum": "44c6a9857b061534a0221a952a9cb655",
     "grade": false,
     "grade_id": "cell-924941123d47cb35",
     "locked": true,
     "schema_version": 3,
     "solution": false,
     "task": false
    }
   },
   "source": [
    "2.Confirme el resultado anterior con el ćalculo de la resistencia térmica total por unidad de longitud del tubo para un tubo de $10$ $\\mathrm{mm}$ de diámetro que tiene los siguientes espesores del aislante: $0$, $2$, $5$, $10$, $20$ y $40$ $\\mathrm{mm}$. El aislante se compone de vidrio celular, y el coeficiente de convección $h$ de la superficie externa es $5$ $\\mathrm{W/m^2}\\cdot K$.\n"
   ]
  },
  {
   "cell_type": "code",
   "execution_count": null,
   "id": "55bc21b3",
   "metadata": {
    "deletable": false,
    "nbgrader": {
     "cell_type": "code",
     "checksum": "1b9b6ac22b8341bcdda7bbdd1b0bb1bc",
     "grade": false,
     "grade_id": "cell-ef162c8ef229cc03",
     "locked": false,
     "schema_version": 3,
     "solution": true,
     "task": false
    }
   },
   "outputs": [],
   "source": [
    "def Rcond(r,k):\n",
    "    # YOUR CODE HERE\n",
    "    raise NotImplementedError()\n",
    "    return RT"
   ]
  },
  {
   "cell_type": "code",
   "execution_count": null,
   "id": "25455869",
   "metadata": {
    "deletable": false,
    "nbgrader": {
     "cell_type": "code",
     "checksum": "4dc6c3b78396b7dd25efa216ce96018b",
     "grade": false,
     "grade_id": "cell-b39337bb2bda0424",
     "locked": false,
     "schema_version": 3,
     "solution": true,
     "task": false
    }
   },
   "outputs": [],
   "source": [
    "def Rconv(r,h):\n",
    "    # YOUR CODE HERE\n",
    "    raise NotImplementedError()\n",
    "    return RT"
   ]
  },
  {
   "cell_type": "code",
   "execution_count": null,
   "id": "456e9bed",
   "metadata": {
    "deletable": false,
    "editable": false,
    "nbgrader": {
     "cell_type": "code",
     "checksum": "25b17a596560ca9c286baf1b14e97c63",
     "grade": false,
     "grade_id": "cell-280f39c5059786ad",
     "locked": true,
     "schema_version": 3,
     "solution": false,
     "task": false
    }
   },
   "outputs": [],
   "source": [
    "plt.plot((r-ri)*1000,Rtot(r,ri,k,h),label=\"$R_t^{'}$\")\n",
    "plt.plot((r-ri)*1000,Rcond(r,k),label=\"$R_{cond}^{'}$\")\n",
    "plt.plot((r-ri)*1000,Rconv(r,h),label=\"$R_{conv}^{'}$\")\n",
    "\n",
    "plt.xlim(0,50)\n",
    "plt.ylim(0,8)\n",
    "plt.ylabel(\"$R_t^{'}$(mK/W)\")\n",
    "plt.xlabel(\"$r-r_{i}$ (mm)\")\n",
    "plt.legend()\n",
    "plt.grid()\n",
    "\n",
    "plt.show()"
   ]
  },
  {
   "cell_type": "code",
   "execution_count": null,
   "id": "5869c559",
   "metadata": {
    "deletable": false,
    "editable": false,
    "nbgrader": {
     "cell_type": "code",
     "checksum": "93131e574b2b1deb6a872e5dfcf0707c",
     "grade": false,
     "grade_id": "cell-fed977feae860052",
     "locked": true,
     "schema_version": 3,
     "solution": false,
     "task": false
    }
   },
   "outputs": [],
   "source": [
    "r[Rtot(r,ri,k,h)==min(Rtot(r,ri,k,h))]-ri"
   ]
  }
 ],
 "metadata": {
  "kernelspec": {
   "display_name": "Python 3 (ipykernel)",
   "language": "python",
   "name": "python3"
  },
  "language_info": {
   "codemirror_mode": {
    "name": "ipython",
    "version": 3
   },
   "file_extension": ".py",
   "mimetype": "text/x-python",
   "name": "python",
   "nbconvert_exporter": "python",
   "pygments_lexer": "ipython3",
   "version": "3.9.7"
  }
 },
 "nbformat": 4,
 "nbformat_minor": 5
}
